{
 "cells": [
  {
   "cell_type": "markdown",
   "metadata": {},
   "source": [
    "# Rzut w polu ziemskim, z oporem powietrza\n",
    "### Proste równania różniczkowe numerycznie metodą Eulera\n",
    "\n",
    "Tradycyjnie potrzebne biblioteki"
   ]
  },
  {
   "cell_type": "code",
   "execution_count": 1,
   "metadata": {
    "collapsed": true
   },
   "outputs": [],
   "source": [
    "import numpy as np\n",
    "import matplotlib.pyplot as plt\n",
    "from scipy.optimize import curve_fit\n",
    "%matplotlib inline"
   ]
  },
  {
   "cell_type": "markdown",
   "metadata": {},
   "source": [
    "### Inicjalizacja, flaki Eulera\n",
    "\n",
    "1. Ustawiam zmienne - początkowe położenie w (0,0), początkową prędkość na sztywno na (50, 50) (w domyśle SI: m/s)\n",
    "2. Ustawiam stałe: przyśpieszenie ziemskie g oraz stałą oporu powietrza\n",
    "3. Tworzę funkcję `a` która liczy przyśpieszenie z oporem powietrza\n",
    "4. Tworzę tablicę `T` 1000 punktów czasowych i od razu krok czsowy `dt`\n",
    "5. Tworzę tablicę `r_history`, która trzyma historię ruchu cząstki\n",
    "6. W `for`ze rozpisuję metodę Eulera:\n",
    "    1. Liczę zmianę położenia przyjmując prędkość jako stałą na małym odcinku - mnożę przez krok czasowy\n",
    "    2. Liczę przyspieszenie (funkcją) i obliczam zmianę położenia (podobnie, mnożąc przez krok czasowy)\n",
    "    3. Obliczywszy te dwie zmiany mnożę przez krok czasowy\n"
   ]
  },
  {
   "cell_type": "code",
   "execution_count": 4,
   "metadata": {
    "collapsed": false
   },
   "outputs": [],
   "source": [
    "r = np.zeros(2)\n",
    "v = np.array([50,50])\n",
    "g = 9.81\n",
    "opor = 0.1\n",
    "m = 1                  # na zajęciach zapomnieliśmy o masie, więc żeby się zgadzało dodaję tutaj\n",
    "\n",
    "def a(r, v):\n",
    "    return np.array([0, -g]) - opor * v / m #tutaj weszła masa o której zapomnieliśmy\n",
    "\n",
    "NT = 1000\n",
    "T, dt = np.linspace(0, 6, NT, retstep=True)\n",
    "\n",
    "r_history = np.zeros((NT, 2))\n",
    "\n",
    "for i in range(NT):\n",
    "    dr = v * dt\n",
    "    dv = a(r, v) * dt\n",
    "    \n",
    "    r_history[i] = r\n",
    "    \n",
    "    r = r + dr\n",
    "    v = v + dv"
   ]
  },
  {
   "cell_type": "markdown",
   "metadata": {
    "collapsed": false
   },
   "source": [
    "### Fitowanie krzywej"
   ]
  },
  {
   "cell_type": "code",
   "execution_count": 8,
   "metadata": {
    "collapsed": false
   },
   "outputs": [
    {
     "name": "stdout",
     "output_type": "stream",
     "text": [
      "Wartości parametrów: a: -0.003448, b: 1.162371, c: -3.474886\n",
      "Odchylenia standardowe: a: 0.000000, b: 0.000007, c: 0.019234\n"
     ]
    },
    {
     "data": {
      "image/png": "[encoded data removed]",
      "text/plain": [
       "<matplotlib.figure.Figure at 0x7f2e6b55fa58>"
      ]
     },
     "metadata": {},
     "output_type": "display_data"
    }
   ],
   "source": [
    "def parabola(x, a, b, c):\n",
    "    \"\"\"\n",
    "    funkcja kwadratowa, żeby curve_fit wiedział co ma dopasowywać\n",
    "    x: położenie\n",
    "    a, b, c: parametry paraboli\n",
    "    \"\"\"\n",
    "    return a*x**2 + b*x + c\n",
    "\n",
    "x = r_history[:,0] #rozbijam macierz r_history na dwie jednowymiarowe\n",
    "y = r_history[:,1] #tablice położeń na obu osiach\n",
    "\n",
    "parametry, bledy = curve_fit(parabola, x, y)\n",
    "a, b, c = parametry\n",
    "\n",
    "\n",
    "print(\"Wartości parametrów: a: {:3f}, b: {:3f}, c: {:3f}\".format(a,b,c))\n",
    "print(\"Odchylenia standardowe: a: {:3f}, b: {:3f}, c: {:3f}\".format(*np.sqrt(np.diag(bledy)**2)))\n",
    "\n",
    "x_fit = np.linspace(0, x.max(), 1000)  #iksy do fitu: na tym samym przedziale co te z Eulera\n",
    "y_fit = parabola(x_fit, a, b, c)       #dopasowana parabola\n",
    "\n",
    "\n",
    "plt.title(\"rzut, metoda Eulera\")\n",
    "plt.plot(x,y, \"b--\", linewidth=10, label=\"trajektoria\")\n",
    "plt.plot(x_fit, y_fit, \"r-\", label = \"fit\")\n",
    "plt.legend()\n",
    "plt.grid()\n",
    "plt.xlabel(\"x\")\n",
    "plt.ylabel(\"y\")\n",
    "plt.show()"
   ]
  }
 ],
 "metadata": {
  "kernelspec": {
   "display_name": "Python 3",
   "language": "python",
   "name": "python3"
  },
  "language_info": {
   "codemirror_mode": {
    "name": "ipython",
    "version": 3
   },
   "file_extension": ".py",
   "mimetype": "text/x-python",
   "name": "python",
   "nbconvert_exporter": "python",
   "pygments_lexer": "ipython3",
   "version": "3.5.1"
  }
 },
 "nbformat": 4,
 "nbformat_minor": 0
}
