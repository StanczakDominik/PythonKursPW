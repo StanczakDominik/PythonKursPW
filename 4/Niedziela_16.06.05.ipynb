{
 "cells": [
  {
   "cell_type": "code",
   "execution_count": null,
   "metadata": {
    "collapsed": false
   },
   "outputs": [],
   "source": [
    "import scipy\n",
    "# scipy?\n",
    "\n",
    "import numpy as np\n",
    "np.random\n",
    "import scipy.special as spec"
   ]
  },
  {
   "cell_type": "code",
   "execution_count": null,
   "metadata": {
    "collapsed": false
   },
   "outputs": [],
   "source": [
    "import sympy as sp\n",
    "sp.init_printing()"
   ]
  },
  {
   "cell_type": "code",
   "execution_count": null,
   "metadata": {
    "collapsed": false
   },
   "outputs": [],
   "source": [
    "x, y, xi = sp.symbols('x y xi')\n",
    "z = sp.sqrt(x**2 + y**2)\n",
    "z"
   ]
  },
  {
   "cell_type": "code",
   "execution_count": null,
   "metadata": {
    "collapsed": false
   },
   "outputs": [],
   "source": [
    "(z).diff(x).integrate(x)"
   ]
  },
  {
   "cell_type": "code",
   "execution_count": null,
   "metadata": {
    "collapsed": false
   },
   "outputs": [],
   "source": [
    "hbar, E, m, x = sp.symbols('hbar, E, m, x', real = True, positive = True)\n",
    "psi = sp.Function('psi')(x)\n",
    "psi\n",
    "\n",
    "schrodinger = sp.Eq(E * psi, -hbar**2/2/m * psi.diff(x,2))\n",
    "schrodinger"
   ]
  },
  {
   "cell_type": "code",
   "execution_count": null,
   "metadata": {
    "collapsed": false
   },
   "outputs": [],
   "source": [
    "\n",
    "rozwiazanie = sp.dsolve(schrodinger, psi).rhs.subs({hbar: 1, m: 1, 'C1': 1, 'C2': 0.3, E:1})\n",
    "# rozwiazanie\n",
    "# for e in range(1, 2):\n",
    "#     sp.plot(rozwiazanie.subs({E: e}))"
   ]
  },
  {
   "cell_type": "code",
   "execution_count": null,
   "metadata": {
    "collapsed": false
   },
   "outputs": [],
   "source": [
    "funkcja_schrodinger = sp.lambdify(x, rozwiazanie, 'mimpy')\n",
    "import numpy as np\n",
    "x_plot = np.linspace(-10, 10, 100)\n",
    "y_plot = funkcja_schrodinger(x_plot)\n",
    "import matplotlib.pyplot as plt\n",
    "plt.plot(x_plot, y_plot)"
   ]
  },
  {
   "cell_type": "code",
   "execution_count": null,
   "metadata": {
    "collapsed": true
   },
   "outputs": [],
   "source": [
    "plt.show()plt.show()"
   ]
  },
  {
   "cell_type": "code",
   "execution_count": null,
   "metadata": {
    "collapsed": false
   },
   "outputs": [],
   "source": [
    "import pandas as pd\n",
    "import numpy as np\n",
    "df = pd.DataFrame(np.random.random((200,5)),\n",
    "                  columns=[\"pierwsza\", \"druga\", \"trzecia\", \"bęc\", \"dzieńdobry\"])\n",
    "df.T #transpozycja\n",
    "df.cumsum()\n",
    "df['bęc']\n",
    "df2 = pd.DataFrame([[1, 2, 3], [2, 17, 42]]) #np.loadtxt(\"pani_aniu_phodaje_dane.txt\")\n",
    "\n",
    "#problem: wszystkie komórki z kolumny df['bęc'] tam gdzie średnia wartość w rzędzie jest < 0.5\n",
    "pd.DataFrame(df[df.T.mean() < 0.5]['bęc'])\n",
    "df[df>0.3]"
   ]
  },
  {
   "cell_type": "code",
   "execution_count": 2,
   "metadata": {
    "collapsed": true
   },
   "outputs": [],
   "source": [
    "import numpy as np\n",
    "import matplotlib.pyplot as plt\n",
    "import matplotlib.animation as ani"
   ]
  },
  {
   "cell_type": "code",
   "execution_count": 16,
   "metadata": {
    "collapsed": false
   },
   "outputs": [],
   "source": [
    "k = 1\n",
    "J = 1\n",
    "T = 2.26\n",
    "\n",
    "N = 16   #NxN spinów w siatce\n",
    "NT = 100000 #liczba kroków czasowych\n",
    "snap_every = 1000\n",
    "\n",
    "N_snapshots = NT // snap_every\n",
    "beta = 1/k/T\n",
    "\n",
    "spins = np.random.randint(0,2, size = (N, N))*2 - 1\n",
    "magnetyzacja = spins.sum()\n",
    "\n",
    "def plot(spins):\n",
    "    fig = plt.figure()\n",
    "    axis = fig.add_subplot(111)\n",
    "    axis.imshow(spins, cmap='Greys', interpolation='none', origin='lower')\n",
    "    axis.set_title(T)\n",
    "    plt.show()\n",
    "    \n",
    "def flip_spin(spins):\n",
    "    \"\"\"\n",
    "    1. wybieramy losowo spin\n",
    "        * losujemy x, y = random int[0, N)\n",
    "    2. liczymy energię\n",
    "        * E = - J spin[x,y] * suma po sąsiadach z uwzględnieniem OWB (PBC)\n",
    "    3. liczymy prawdopodobieństwo przerzucenia = exp(-2*E*beta)\n",
    "    4. losujemy uniform(0, 1)\n",
    "    5. jeśli boltzmann > uniform(0,1): przerzucamy\n",
    "    6. losowo wybrany spin jest przerzucony do góry nogami z prawdopodobieństwem bosmanowskim\n",
    "    \"\"\"\n",
    "    global magnetyzacja\n",
    "    \n",
    "    x, y = np.random.randint(0, N, size=2)\n",
    "    E = 2 * J * spins[x, y] * (spins[(x+1)%N, y] + spins[(x-1)%N, y] +\n",
    "                           spins[x, (y+1)%N] + spins[x, (y-1)%N])\n",
    "    boltzmann = np.exp(-E*beta)\n",
    "    uniform = np.random.random()\n",
    "    if uniform < boltzmann:\n",
    "        zmiana_magnetyzacji = -2 * spins[x,y]\n",
    "        magnetyzacja += zmiana_magnetyzacji\n",
    "        spins[x,y] = spins[x,y] * -1\n",
    "\n",
    "spins_history = np.empty((N_snapshots, N, N))\n",
    "mag_history = np.empty(NT)\n",
    "for i in range(NT):\n",
    "    if(i % snap_every == 0):\n",
    "        spins_history[i//snap_every] = spins\n",
    "    mag_history[i] = magnetyzacja\n",
    "    \n",
    "    flip_spin(spins)\n",
    "def plot_mag():\n",
    "    plt.plot(mag_history/N**2)\n",
    "    plt.show()\n",
    "    \n",
    "    \n",
    "def animacja(): #nie musi brać argumentu bo niczego nie modyfikuje\n",
    "    fig = plt.figure()\n",
    "    axis = fig.add_subplot(111)\n",
    "    #zmiana 1 poniżej: IM =\n",
    "                     #spins_history[0] zamiast spins\n",
    "    IM = axis.imshow(spins_history[0], cmap='Greys', interpolation='none', origin='lower')\n",
    "    # zmiana 2\n",
    "    title = axis.set_title(\"T = {}, i = {}\".format(T, 0))\n",
    "    \n",
    "    def animate(i_snapshot):\n",
    "        IM.set_array(spins_history[i_snapshot])\n",
    "        title.set_text(\"T = {}, i = {}\".format(T, i_snapshot*snap_every))\n",
    "        return [IM, title]\n",
    "    \n",
    "    animacja_obiekt = ani.FuncAnimation(fig, animate, frames = N_snapshots)\n",
    "    plt.show()\n",
    "animacja()\n",
    "plot_mag()"
   ]
  },
  {
   "cell_type": "code",
   "execution_count": 47,
   "metadata": {
    "collapsed": false
   },
   "outputs": [],
   "source": [
    "import scipy.fftpack as fft\n",
    "# plot_mag()\n",
    "\n",
    "N_punktow = 10000\n",
    "t = np.arange(N_punktow)\n",
    "okres = 1000\n",
    "y = np.sin(2*np.pi*t/okres) + np.sin(2*np.pi*t/(okres/10))\n",
    "\n",
    "f = fft.rfftfreq(N_punktow)\n",
    "y_fft = fft.rfft(y)**2\n",
    "y_fft[0] = 5e8\n",
    "plt.plot(f, y_fft, \"bo-\")\n",
    "plt.show()\n",
    "\n",
    "y_odwrotna = np.pi*fft.irfft(y_fft)/N_punktow\n",
    "plt.plot(t, y)\n",
    "plt.plot(t, y_odwrotna, \"r-\")\n",
    "plt.show()\n",
    "\n"
   ]
  },
  {
   "cell_type": "code",
   "execution_count": 55,
   "metadata": {
    "collapsed": false
   },
   "outputs": [
    {
     "name": "stderr",
     "output_type": "stream",
     "text": [
      "/home/dominik/.anaconda3/lib/python3.5/site-packages/ipykernel/__main__.py:16: RuntimeWarning: divide by zero encountered in true_divide\n"
     ]
    }
   ],
   "source": [
    "#poisson 1d przez fouriera\n",
    "N = 1000\n",
    "x = np.linspace(-10, 10, N)\n",
    "dx = x[1] - x[0]\n",
    "# dywergencja z potencjału = gęstość ładunku / epsilon_0 (1)\n",
    "# d2phi/dx2 = rho\n",
    "# po sfourierzeniu\n",
    "# d/dx -> -i*k\n",
    "# (d/dx)^2 -> -k^2\n",
    "# -k^2 phi = rho\n",
    "# phi = -rho/k^2\n",
    "\n",
    "epsilon_0 = 1\n",
    "rho = np.sin(x**2)\n",
    "k = fft.rfftfreq(N, dx)\n",
    "phi_f = -fft.rfft(rho)/k**2\n",
    "phi_f[0] = 0\n",
    "phi = fft.irfft(phi_f)/N #*normalizacja?????\n",
    "\n",
    "plt.plot(x, rho)\n",
    "plt.plot(x, phi)\n",
    "plt.show()"
   ]
  },
  {
   "cell_type": "code",
   "execution_count": 66,
   "metadata": {
    "collapsed": false
   },
   "outputs": [],
   "source": [
    "import numba\n",
    "A = np.arange(100000)**2\n",
    "B = np.arange(100000)**3\n",
    "def dodawanie(A, B):\n",
    "    return A + B"
   ]
  },
  {
   "cell_type": "code",
   "execution_count": 67,
   "metadata": {
    "collapsed": false
   },
   "outputs": [
    {
     "name": "stdout",
     "output_type": "stream",
     "text": [
      "1000 loops, best of 3: 1.07 ms per loop\n"
     ]
    }
   ],
   "source": [
    "%%timeit\n",
    "dodawanie(A,B)"
   ]
  },
  {
   "cell_type": "code",
   "execution_count": 68,
   "metadata": {
    "collapsed": false
   },
   "outputs": [],
   "source": [
    "@numba.jit\n",
    "def dodawanie_numba(A, B):\n",
    "    return A + B"
   ]
  },
  {
   "cell_type": "code",
   "execution_count": 69,
   "metadata": {
    "collapsed": false
   },
   "outputs": [
    {
     "name": "stdout",
     "output_type": "stream",
     "text": [
      "The slowest run took 1090.86 times longer than the fastest. This could mean that an intermediate result is being cached.\n",
      "1 loop, best of 3: 1.01 ms per loop\n"
     ]
    }
   ],
   "source": [
    "%%timeit\n",
    "dodawanie_numba(A,B)"
   ]
  }
 ],
 "metadata": {
  "kernelspec": {
   "display_name": "Python 3",
   "language": "python",
   "name": "python3"
  },
  "language_info": {
   "codemirror_mode": {
    "name": "ipython",
    "version": 3
   },
   "file_extension": ".py",
   "mimetype": "text/x-python",
   "name": "python",
   "nbconvert_exporter": "python",
   "pygments_lexer": "ipython3",
   "version": "3.5.1"
  }
 },
 "nbformat": 4,
 "nbformat_minor": 0
}
