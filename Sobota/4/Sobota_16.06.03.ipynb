{
 "cells": [
  {
   "cell_type": "code",
   "execution_count": 36,
   "metadata": {
    "collapsed": true
   },
   "outputs": [],
   "source": [
    "import numpy as np\n",
    "import matplotlib.pyplot as plt"
   ]
  },
  {
   "cell_type": "markdown",
   "metadata": {},
   "source": [
    "### Pandas\n",
    "[10 minutes to Pandas, całkiem fajny przegląd](http://pandas.pydata.org/pandas-docs/stable/10min.html)"
   ]
  },
  {
   "cell_type": "code",
   "execution_count": 2,
   "metadata": {
    "collapsed": true
   },
   "outputs": [],
   "source": [
    "import pandas as pd\n",
    "pd?"
   ]
  },
  {
   "cell_type": "code",
   "execution_count": 85,
   "metadata": {
    "collapsed": false
   },
   "outputs": [
    {
     "data": {
      "text/html": [
       "<div>\n",
       "<table border=\"1\" class=\"dataframe\">\n",
       "  <thead>\n",
       "    <tr style=\"text-align: right;\">\n",
       "      <th></th>\n",
       "      <th>a</th>\n",
       "      <th>b</th>\n",
       "      <th>c</th>\n",
       "      <th>d</th>\n",
       "      <th>długa nazwa</th>\n",
       "    </tr>\n",
       "  </thead>\n",
       "  <tbody>\n",
       "    <tr>\n",
       "      <th>0</th>\n",
       "      <td>0.417022</td>\n",
       "      <td>0.720324</td>\n",
       "      <td>0.000114</td>\n",
       "      <td>1.302333</td>\n",
       "      <td>0.146756</td>\n",
       "    </tr>\n",
       "    <tr>\n",
       "      <th>1</th>\n",
       "      <td>0.092339</td>\n",
       "      <td>0.186260</td>\n",
       "      <td>0.345561</td>\n",
       "      <td>1.396767</td>\n",
       "      <td>0.538817</td>\n",
       "    </tr>\n",
       "    <tr>\n",
       "      <th>2</th>\n",
       "      <td>0.419195</td>\n",
       "      <td>0.685220</td>\n",
       "      <td>0.204452</td>\n",
       "      <td>1.878117</td>\n",
       "      <td>0.027388</td>\n",
       "    </tr>\n",
       "    <tr>\n",
       "      <th>3</th>\n",
       "      <td>0.670468</td>\n",
       "      <td>0.417305</td>\n",
       "      <td>0.558690</td>\n",
       "      <td>1.140387</td>\n",
       "      <td>0.198101</td>\n",
       "    </tr>\n",
       "    <tr>\n",
       "      <th>4</th>\n",
       "      <td>0.800745</td>\n",
       "      <td>0.968262</td>\n",
       "      <td>0.313424</td>\n",
       "      <td>1.692323</td>\n",
       "      <td>0.876389</td>\n",
       "    </tr>\n",
       "    <tr>\n",
       "      <th>5</th>\n",
       "      <td>0.894607</td>\n",
       "      <td>0.085044</td>\n",
       "      <td>0.039055</td>\n",
       "      <td>1.169830</td>\n",
       "      <td>0.878143</td>\n",
       "    </tr>\n",
       "    <tr>\n",
       "      <th>6</th>\n",
       "      <td>0.098347</td>\n",
       "      <td>0.421108</td>\n",
       "      <td>0.957890</td>\n",
       "      <td>1.533165</td>\n",
       "      <td>0.691877</td>\n",
       "    </tr>\n",
       "    <tr>\n",
       "      <th>7</th>\n",
       "      <td>0.315516</td>\n",
       "      <td>0.686501</td>\n",
       "      <td>0.834626</td>\n",
       "      <td>1.018288</td>\n",
       "      <td>0.750144</td>\n",
       "    </tr>\n",
       "    <tr>\n",
       "      <th>8</th>\n",
       "      <td>0.988861</td>\n",
       "      <td>0.748166</td>\n",
       "      <td>0.280444</td>\n",
       "      <td>1.789279</td>\n",
       "      <td>0.103226</td>\n",
       "    </tr>\n",
       "    <tr>\n",
       "      <th>9</th>\n",
       "      <td>0.447894</td>\n",
       "      <td>0.908596</td>\n",
       "      <td>0.293614</td>\n",
       "      <td>1.287775</td>\n",
       "      <td>0.130029</td>\n",
       "    </tr>\n",
       "    <tr>\n",
       "      <th>10</th>\n",
       "      <td>0.019367</td>\n",
       "      <td>0.678836</td>\n",
       "      <td>0.211628</td>\n",
       "      <td>1.265547</td>\n",
       "      <td>0.491573</td>\n",
       "    </tr>\n",
       "    <tr>\n",
       "      <th>11</th>\n",
       "      <td>0.053363</td>\n",
       "      <td>0.574118</td>\n",
       "      <td>0.146729</td>\n",
       "      <td>1.589306</td>\n",
       "      <td>0.699758</td>\n",
       "    </tr>\n",
       "    <tr>\n",
       "      <th>12</th>\n",
       "      <td>0.102334</td>\n",
       "      <td>0.414056</td>\n",
       "      <td>0.694400</td>\n",
       "      <td>1.414179</td>\n",
       "      <td>0.049953</td>\n",
       "    </tr>\n",
       "    <tr>\n",
       "      <th>13</th>\n",
       "      <td>0.535896</td>\n",
       "      <td>0.663795</td>\n",
       "      <td>0.514889</td>\n",
       "      <td>1.944595</td>\n",
       "      <td>0.586555</td>\n",
       "    </tr>\n",
       "    <tr>\n",
       "      <th>14</th>\n",
       "      <td>0.903402</td>\n",
       "      <td>0.137475</td>\n",
       "      <td>0.139276</td>\n",
       "      <td>1.807391</td>\n",
       "      <td>0.397677</td>\n",
       "    </tr>\n",
       "    <tr>\n",
       "      <th>15</th>\n",
       "      <td>0.165354</td>\n",
       "      <td>0.927509</td>\n",
       "      <td>0.347766</td>\n",
       "      <td>1.750812</td>\n",
       "      <td>0.725998</td>\n",
       "    </tr>\n",
       "    <tr>\n",
       "      <th>16</th>\n",
       "      <td>0.883306</td>\n",
       "      <td>0.623672</td>\n",
       "      <td>0.750942</td>\n",
       "      <td>1.348898</td>\n",
       "      <td>0.269928</td>\n",
       "    </tr>\n",
       "    <tr>\n",
       "      <th>17</th>\n",
       "      <td>0.895886</td>\n",
       "      <td>0.428091</td>\n",
       "      <td>0.964840</td>\n",
       "      <td>1.663441</td>\n",
       "      <td>0.621696</td>\n",
       "    </tr>\n",
       "    <tr>\n",
       "      <th>18</th>\n",
       "      <td>0.114746</td>\n",
       "      <td>0.949489</td>\n",
       "      <td>0.449912</td>\n",
       "      <td>1.578390</td>\n",
       "      <td>0.408137</td>\n",
       "    </tr>\n",
       "    <tr>\n",
       "      <th>19</th>\n",
       "      <td>0.237027</td>\n",
       "      <td>0.903380</td>\n",
       "      <td>0.573679</td>\n",
       "      <td>1.002870</td>\n",
       "      <td>0.617145</td>\n",
       "    </tr>\n",
       "    <tr>\n",
       "      <th>20</th>\n",
       "      <td>0.326645</td>\n",
       "      <td>0.527058</td>\n",
       "      <td>0.885942</td>\n",
       "      <td>1.357270</td>\n",
       "      <td>0.908535</td>\n",
       "    </tr>\n",
       "    <tr>\n",
       "      <th>21</th>\n",
       "      <td>0.623360</td>\n",
       "      <td>0.015821</td>\n",
       "      <td>0.929437</td>\n",
       "      <td>1.690897</td>\n",
       "      <td>0.997323</td>\n",
       "    </tr>\n",
       "    <tr>\n",
       "      <th>22</th>\n",
       "      <td>0.172341</td>\n",
       "      <td>0.137136</td>\n",
       "      <td>0.932595</td>\n",
       "      <td>1.696818</td>\n",
       "      <td>0.066000</td>\n",
       "    </tr>\n",
       "    <tr>\n",
       "      <th>23</th>\n",
       "      <td>0.755463</td>\n",
       "      <td>0.753876</td>\n",
       "      <td>0.923025</td>\n",
       "      <td>1.711525</td>\n",
       "      <td>0.124271</td>\n",
       "    </tr>\n",
       "    <tr>\n",
       "      <th>24</th>\n",
       "      <td>0.019880</td>\n",
       "      <td>0.026211</td>\n",
       "      <td>0.028306</td>\n",
       "      <td>1.246211</td>\n",
       "      <td>0.860028</td>\n",
       "    </tr>\n",
       "    <tr>\n",
       "      <th>25</th>\n",
       "      <td>0.538831</td>\n",
       "      <td>0.552822</td>\n",
       "      <td>0.842031</td>\n",
       "      <td>1.124173</td>\n",
       "      <td>0.279184</td>\n",
       "    </tr>\n",
       "    <tr>\n",
       "      <th>26</th>\n",
       "      <td>0.585759</td>\n",
       "      <td>0.969596</td>\n",
       "      <td>0.561030</td>\n",
       "      <td>1.018647</td>\n",
       "      <td>0.800633</td>\n",
       "    </tr>\n",
       "    <tr>\n",
       "      <th>27</th>\n",
       "      <td>0.232974</td>\n",
       "      <td>0.807105</td>\n",
       "      <td>0.387861</td>\n",
       "      <td>1.863542</td>\n",
       "      <td>0.747122</td>\n",
       "    </tr>\n",
       "    <tr>\n",
       "      <th>28</th>\n",
       "      <td>0.556240</td>\n",
       "      <td>0.136455</td>\n",
       "      <td>0.059918</td>\n",
       "      <td>1.121343</td>\n",
       "      <td>0.044552</td>\n",
       "    </tr>\n",
       "    <tr>\n",
       "      <th>29</th>\n",
       "      <td>0.107494</td>\n",
       "      <td>0.225709</td>\n",
       "      <td>0.712989</td>\n",
       "      <td>1.559717</td>\n",
       "      <td>0.012556</td>\n",
       "    </tr>\n",
       "  </tbody>\n",
       "</table>\n",
       "</div>"
      ],
      "text/plain": [
       "           a         b         c         d  długa nazwa\n",
       "0   0.417022  0.720324  0.000114  1.302333     0.146756\n",
       "1   0.092339  0.186260  0.345561  1.396767     0.538817\n",
       "2   0.419195  0.685220  0.204452  1.878117     0.027388\n",
       "3   0.670468  0.417305  0.558690  1.140387     0.198101\n",
       "4   0.800745  0.968262  0.313424  1.692323     0.876389\n",
       "5   0.894607  0.085044  0.039055  1.169830     0.878143\n",
       "6   0.098347  0.421108  0.957890  1.533165     0.691877\n",
       "7   0.315516  0.686501  0.834626  1.018288     0.750144\n",
       "8   0.988861  0.748166  0.280444  1.789279     0.103226\n",
       "9   0.447894  0.908596  0.293614  1.287775     0.130029\n",
       "10  0.019367  0.678836  0.211628  1.265547     0.491573\n",
       "11  0.053363  0.574118  0.146729  1.589306     0.699758\n",
       "12  0.102334  0.414056  0.694400  1.414179     0.049953\n",
       "13  0.535896  0.663795  0.514889  1.944595     0.586555\n",
       "14  0.903402  0.137475  0.139276  1.807391     0.397677\n",
       "15  0.165354  0.927509  0.347766  1.750812     0.725998\n",
       "16  0.883306  0.623672  0.750942  1.348898     0.269928\n",
       "17  0.895886  0.428091  0.964840  1.663441     0.621696\n",
       "18  0.114746  0.949489  0.449912  1.578390     0.408137\n",
       "19  0.237027  0.903380  0.573679  1.002870     0.617145\n",
       "20  0.326645  0.527058  0.885942  1.357270     0.908535\n",
       "21  0.623360  0.015821  0.929437  1.690897     0.997323\n",
       "22  0.172341  0.137136  0.932595  1.696818     0.066000\n",
       "23  0.755463  0.753876  0.923025  1.711525     0.124271\n",
       "24  0.019880  0.026211  0.028306  1.246211     0.860028\n",
       "25  0.538831  0.552822  0.842031  1.124173     0.279184\n",
       "26  0.585759  0.969596  0.561030  1.018647     0.800633\n",
       "27  0.232974  0.807105  0.387861  1.863542     0.747122\n",
       "28  0.556240  0.136455  0.059918  1.121343     0.044552\n",
       "29  0.107494  0.225709  0.712989  1.559717     0.012556"
      ]
     },
     "execution_count": 85,
     "metadata": {},
     "output_type": "execute_result"
    }
   ],
   "source": [
    "np.random.seed(1)\n",
    "df = pd.DataFrame(np.random.random((30, 5)),\n",
    "            columns=['a', 'b', 'c', 'd', 'długa nazwa'])\n",
    "df\n",
    "df[df > 0.5]\n",
    "df.cumsum()\n",
    "df.describe()\n",
    "df2 = pd.DataFrame(np.ones(30), columns=['d'])\n",
    "df2.add(df, fill_value=0)"
   ]
  },
  {
   "cell_type": "markdown",
   "metadata": {},
   "source": [
    "### Sympy\n",
    "[Dobry wstępowy tutorial](http://docs.sympy.org/latest/tutorial/preliminaries.html#about-this-tutorial)"
   ]
  },
  {
   "cell_type": "code",
   "execution_count": 2,
   "metadata": {
    "collapsed": false
   },
   "outputs": [],
   "source": [
    "import sympy as sp\n",
    "sp.init_printing()"
   ]
  },
  {
   "cell_type": "code",
   "execution_count": 40,
   "metadata": {
    "collapsed": false
   },
   "outputs": [
    {
     "data": {
      "image/png": "[encoded data removed]",
      "text/latex": [
       "$$\\psi{\\left (x \\right )} = 0.25 e^{\\sqrt{2} i x} + e^{- \\sqrt{2} i x}$$"
      ],
      "text/plain": [
       "             √2⋅ⅈ⋅x    -√2⋅ⅈ⋅x\n",
       "ψ(x) = 0.25⋅ℯ       + ℯ       "
      ]
     },
     "execution_count": 40,
     "metadata": {},
     "output_type": "execute_result"
    }
   ],
   "source": [
    "hbar, E, m, x = sp.symbols('hbar, E, m, x')\n",
    "psi = sp.Function('psi')\n",
    "psi(x)\n",
    "eq = sp.Eq(E*psi(x), -hbar**2/2/m * psi(x).diff(x,2))\n",
    "solution = sp.dsolve(eq)\n",
    "\n",
    "#na tym utknęliśmy\n",
    "podstawienia = solution.subs({hbar: 1, E: 1, m: 1, 'C1': 1, 'C2':0.25})\n",
    "podstawienia\n",
    "# to na tym etapie jest obiekt typu equation - składa się z dwóch \"expression\" i znaku = między nimi\n",
    "# żeby go policzyc numerycznie musimy wyciągnąć prawą stronę"
   ]
  },
  {
   "cell_type": "code",
   "execution_count": 32,
   "metadata": {
    "collapsed": false
   },
   "outputs": [
    {
     "data": {
      "image/png": "[encoded data removed]",
      "text/latex": [
       "$$e^{\\sqrt{2} i x} + e^{- \\sqrt{2} i x}$$"
      ],
      "text/plain": [
       " √2⋅ⅈ⋅x    -√2⋅ⅈ⋅x\n",
       "ℯ       + ℯ       "
      ]
     },
     "execution_count": 32,
     "metadata": {},
     "output_type": "execute_result"
    }
   ],
   "source": [
    "podstawienia.rhs #right hand side"
   ]
  },
  {
   "cell_type": "code",
   "execution_count": 42,
   "metadata": {
    "collapsed": false
   },
   "outputs": [],
   "source": [
    "funkcja = sp.lambdify(x, podstawienia.rhs, 'numpy')\n",
    "x_plot = np.linspace(-3, 3, 100)\n",
    "y_plot = funkcja(x_plot)\n",
    "plt.plot(x_plot, y_plot.real, x_plot, y_plot.imag) #część urojona i rzeczywista\n",
    "plt.show()"
   ]
  },
  {
   "cell_type": "markdown",
   "metadata": {},
   "source": [
    "### Numba"
   ]
  },
  {
   "cell_type": "code",
   "execution_count": 46,
   "metadata": {
    "collapsed": false
   },
   "outputs": [],
   "source": [
    "import numba\n",
    "A = [koczkodan**2 for koczkodan in range(10000)]\n",
    "B = [x**3 for x in range(10000)]\n",
    "\n",
    "A_np = np.array(A)\n",
    "B_np = np.array(B)\n",
    "\n",
    "wynik = np.zeros(10000)\n",
    "@numba.jit()\n",
    "def add_list(A, B):\n",
    "    for i in range(10000):\n",
    "        wynik[i] = A[i] + B[i]\n",
    "\n",
    "@numba.jit()\n",
    "def add_numpy(A, B):\n",
    "    return A + B\n",
    "\n",
    "def add_numpy_nonjit(A, B):\n",
    "    return A + B"
   ]
  },
  {
   "cell_type": "code",
   "execution_count": 49,
   "metadata": {
    "collapsed": false
   },
   "outputs": [
    {
     "name": "stdout",
     "output_type": "stream",
     "text": [
      "The slowest run took 5.02 times longer than the fastest. This could mean that an intermediate result is being cached.\n",
      "100000 loops, best of 3: 14.8 µs per loop\n"
     ]
    }
   ],
   "source": [
    "%%timeit\n",
    "add_numpy(A_np, B_np)"
   ]
  },
  {
   "cell_type": "code",
   "execution_count": 50,
   "metadata": {
    "collapsed": false
   },
   "outputs": [
    {
     "name": "stdout",
     "output_type": "stream",
     "text": [
      "The slowest run took 32.32 times longer than the fastest. This could mean that an intermediate result is being cached.\n",
      "100000 loops, best of 3: 22.8 µs per loop\n"
     ]
    }
   ],
   "source": [
    "%%timeit\n",
    "add_numpy_nonjit(A_np, B_np)"
   ]
  },
  {
   "cell_type": "markdown",
   "metadata": {},
   "source": [
    "Czasem wychodzi... czasem nie :) [Do poczytania na temat rezultatów w nieco sensowniejszym przypadku.](https://jakevdp.github.io/blog/2013/06/15/numba-vs-cython-take-2/)"
   ]
  },
  {
   "cell_type": "markdown",
   "metadata": {},
   "source": [
    "### Scipy\n",
    "[Dokumentacja i przegląd tego, co tam jest](http://docs.scipy.org/doc/scipy/reference/)"
   ]
  },
  {
   "cell_type": "code",
   "execution_count": 139,
   "metadata": {
    "collapsed": false
   },
   "outputs": [
    {
     "data": {
      "text/plain": [
       "array([[  1.,   0.,   0.],\n",
       "       [  0.,  21.,   0.],\n",
       "       [  0.,   0.,  -5.]])"
      ]
     },
     "execution_count": 139,
     "metadata": {},
     "output_type": "execute_result"
    }
   ],
   "source": [
    "x = np.array([[1, 3, 5],[43, 21, 72], [12, 3, -5]])\n",
    "x * np.eye(3)"
   ]
  },
  {
   "cell_type": "code",
   "execution_count": 149,
   "metadata": {
    "collapsed": false
   },
   "outputs": [],
   "source": [
    "import scipy.fftpack as fft"
   ]
  },
  {
   "cell_type": "markdown",
   "metadata": {},
   "source": [
    "### Ising 2D\n",
    "\n",
    "Matma, którą pisałem z głowy i która może być nietrafiona :D Kod w `ising_fresh.py` działał ;)\n",
    "\n",
    "$$P(\\Gamma) \\~ \\exp(\\frac{-E_\\Gamma}{k_B T})$$\n",
    "$$P(\\Gamma_1 \\to \\Gamma_2) = \\exp(\\frac{-\\Delta E_{\\Gamma_1 \\to \\Gamma_2}}{k_B T})$$\n",
    "Bierzemy 1 spin jako nasz układ $\\Gamma$, przyjmujemy oddziaływania typu ($J$ - stała, $ S = \\pm 1$)\n",
    "$$E_i = -J S_i\\sum_{\\text{sąsiedzi}} S_{\\text{sąsiad}}$$\n",
    "Więc jeśli wymienimy tylko $S_i^n = -S_i$, $E_i^n = -E_i$, $$\\Delta E_i = -2 E_i$$\n",
    "Więc $$P(\\text{flip i}) = \\exp(\\frac{-2 E_i}{k_B T})$$\n",
    "\n",
    "$$ 0 < P < 1$$\n",
    "$$ 0 < \\text{random_uniform} < 1$$\n",
    "\n",
    "```\n",
    "oooooooo\n",
    "ooozoooo\n",
    "oozXzooo\n",
    "ooozoooo\n",
    "oooooooo\n",
    "```\n",
    "* `o` - jakiś spin\n",
    "* `X` - spin który akurat flipujemy\n",
    "* `z` - sąsiad"
   ]
  }
 ],
 "metadata": {
  "kernelspec": {
   "display_name": "Python 3",
   "language": "python",
   "name": "python3"
  },
  "language_info": {
   "codemirror_mode": {
    "name": "ipython",
    "version": 3
   },
   "file_extension": ".py",
   "mimetype": "text/x-python",
   "name": "python",
   "nbconvert_exporter": "python",
   "pygments_lexer": "ipython3",
   "version": "3.5.1"
  }
 },
 "nbformat": 4,
 "nbformat_minor": 0
}
